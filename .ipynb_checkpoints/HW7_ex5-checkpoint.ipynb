{
 "cells": [
  {
   "cell_type": "code",
   "execution_count": 102,
   "metadata": {},
   "outputs": [],
   "source": [
    "import numpy as np\n",
    "from copy import copy\n",
    "from scipy.sparse import lil_matrix"
   ]
  },
  {
   "cell_type": "code",
   "execution_count": 113,
   "metadata": {},
   "outputs": [],
   "source": [
    "N_rows = 3\n",
    "N_cols = 3\n",
    "N = N_rows*N_cols\n",
    "lmbda = 3"
   ]
  },
  {
   "cell_type": "code",
   "execution_count": 78,
   "metadata": {},
   "outputs": [],
   "source": [
    "clip = np.zeros((N_rows+2,N_cols+2), 'int')\n",
    "clip[1:(N_rows+1),1:(N_cols+1)] = np.ones((N_rows,N_cols))\n",
    "# print(clip)\n",
    "\n",
    "def neighbors(k,l):\n",
    "    res = []\n",
    "    k_clip = k+1\n",
    "    l_clip = l+1\n",
    "    if clip[k_clip-1,l_clip]:\n",
    "        res.append((k-1,l))\n",
    "    if clip[k_clip,l_clip-1]:\n",
    "        res.append((k,l-1))\n",
    "    if clip[k_clip+1,l_clip]:\n",
    "        res.append((k+1,l))\n",
    "    if clip[k_clip,l_clip+1]:\n",
    "        res.append((k,l+1))\n",
    "    return res"
   ]
  },
  {
   "cell_type": "code",
   "execution_count": 126,
   "metadata": {},
   "outputs": [],
   "source": [
    "I_x = np.ones((N_rows,N_cols), 'int')\n",
    "I_y = np.ones((N_rows,N_cols), 'int')\n",
    "I_t = np.ones((N_rows,N_cols), 'int')"
   ]
  },
  {
   "cell_type": "code",
   "execution_count": 121,
   "metadata": {},
   "outputs": [],
   "source": [
    "A = np.zeros((2*N, 2*N), 'int')\n",
    "\n",
    "for i in range(N_rows):\n",
    "    for j in range(N_cols):\n",
    "        i_s = i*N_cols+j\n",
    "        A[2*i_s,2*i_s] = I_x[i,j]**2+8*lmbda\n",
    "        A[2*i_s,2*i_s+1] = I_x[i,j]*I_y[i,j]\n",
    "        A[2*i_s+1,2*i_s] = I_x[i,j]*I_y[i,j]\n",
    "        A[2*i_s+1,2*i_s+1] = I_y[i,j]**2+8*lmbda\n",
    "        for (k,l) in neighbors(i,j):\n",
    "            k_s = k*N_cols+l\n",
    "            A[2*i_s,2*k_s] = -2*lmbda\n",
    "            A[2*i_s+1,2*k_s+1] = -2*lmbda"
   ]
  },
  {
   "cell_type": "code",
   "execution_count": 130,
   "metadata": {
    "scrolled": true
   },
   "outputs": [
    {
     "name": "stdout",
     "output_type": "stream",
     "text": [
      "[[25  1 -6  0  0  0 -6  0  0  0  0  0  0  0  0  0  0  0]\n",
      " [ 1 25  0 -6  0  0  0 -6  0  0  0  0  0  0  0  0  0  0]\n",
      " [-6  0 25  1 -6  0  0  0 -6  0  0  0  0  0  0  0  0  0]\n",
      " [ 0 -6  1 25  0 -6  0  0  0 -6  0  0  0  0  0  0  0  0]\n",
      " [ 0  0 -6  0 25  1  0  0  0  0 -6  0  0  0  0  0  0  0]\n",
      " [ 0  0  0 -6  1 25  0  0  0  0  0 -6  0  0  0  0  0  0]\n",
      " [-6  0  0  0  0  0 25  1 -6  0  0  0 -6  0  0  0  0  0]\n",
      " [ 0 -6  0  0  0  0  1 25  0 -6  0  0  0 -6  0  0  0  0]\n",
      " [ 0  0 -6  0  0  0 -6  0 25  1 -6  0  0  0 -6  0  0  0]\n",
      " [ 0  0  0 -6  0  0  0 -6  1 25  0 -6  0  0  0 -6  0  0]\n",
      " [ 0  0  0  0 -6  0  0  0 -6  0 25  1  0  0  0  0 -6  0]\n",
      " [ 0  0  0  0  0 -6  0  0  0 -6  1 25  0  0  0  0  0 -6]\n",
      " [ 0  0  0  0  0  0 -6  0  0  0  0  0 25  1 -6  0  0  0]\n",
      " [ 0  0  0  0  0  0  0 -6  0  0  0  0  1 25  0 -6  0  0]\n",
      " [ 0  0  0  0  0  0  0  0 -6  0  0  0 -6  0 25  1 -6  0]\n",
      " [ 0  0  0  0  0  0  0  0  0 -6  0  0  0 -6  1 25  0 -6]\n",
      " [ 0  0  0  0  0  0  0  0  0  0 -6  0  0  0 -6  0 25  1]\n",
      " [ 0  0  0  0  0  0  0  0  0  0  0 -6  0  0  0 -6  1 25]]\n"
     ]
    }
   ],
   "source": [
    "print(A)"
   ]
  },
  {
   "cell_type": "code",
   "execution_count": 127,
   "metadata": {},
   "outputs": [],
   "source": [
    "b = np.zeros((2*N,1), 'int')\n",
    "for i in range(N_rows):\n",
    "    for j in range(N_cols):\n",
    "        i_s = i*N_cols+j\n",
    "        b[2*i_s,0] = -I_x[i,j]*I_t[i,j]\n",
    "        b[2*i_s+1,0] = -I_y[i,j]*I_t[i,j]"
   ]
  },
  {
   "cell_type": "code",
   "execution_count": 128,
   "metadata": {
    "scrolled": true
   },
   "outputs": [
    {
     "name": "stdout",
     "output_type": "stream",
     "text": [
      "[[-1]\n",
      " [-1]\n",
      " [-1]\n",
      " [-1]\n",
      " [-1]\n",
      " [-1]\n",
      " [-1]\n",
      " [-1]\n",
      " [-1]\n",
      " [-1]\n",
      " [-1]\n",
      " [-1]\n",
      " [-1]\n",
      " [-1]\n",
      " [-1]\n",
      " [-1]\n",
      " [-1]\n",
      " [-1]]\n"
     ]
    }
   ],
   "source": [
    "print(b)"
   ]
  },
  {
   "cell_type": "code",
   "execution_count": 139,
   "metadata": {},
   "outputs": [
    {
     "name": "stdout",
     "output_type": "stream",
     "text": [
      "[[-0.09080095 -0.11340206 -0.09080095]\n",
      " [-0.11340206 -0.14314036 -0.11340206]\n",
      " [-0.09080095 -0.11340206 -0.09080095]]\n",
      "[[-0.09080095 -0.11340206 -0.09080095]\n",
      " [-0.11340206 -0.14314036 -0.11340206]\n",
      " [-0.09080095 -0.11340206 -0.09080095]]\n"
     ]
    }
   ],
   "source": [
    "x = np.linalg.solve(A,b)\n",
    "\n",
    "u = np.zeros((N_rows,N_cols), 'float')\n",
    "v = np.zeros((N_rows,N_cols), 'float')\n",
    "\n",
    "for ind, val in enumerate(x[:,0]):\n",
    "    i_s = int(ind/2)\n",
    "    j = i_s % N_cols\n",
    "    i = int((i_s-j) / N_cols)\n",
    "    if ind % 2 == 0:\n",
    "        u[i,j] = val\n",
    "    else:\n",
    "        v[i,j] = val\n",
    "\n",
    "print(u)\n",
    "print(v)"
   ]
  },
  {
   "cell_type": "code",
   "execution_count": 137,
   "metadata": {},
   "outputs": [
    {
     "name": "stdout",
     "output_type": "stream",
     "text": [
      "1\n"
     ]
    }
   ],
   "source": [
    "print(int(3/2))"
   ]
  }
 ],
 "metadata": {
  "kernelspec": {
   "display_name": "Python 3",
   "language": "python",
   "name": "python3"
  },
  "language_info": {
   "codemirror_mode": {
    "name": "ipython",
    "version": 3
   },
   "file_extension": ".py",
   "mimetype": "text/x-python",
   "name": "python",
   "nbconvert_exporter": "python",
   "pygments_lexer": "ipython3",
   "version": "3.7.7"
  }
 },
 "nbformat": 4,
 "nbformat_minor": 4
}
