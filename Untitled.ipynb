{
 "cells": [
  {
   "cell_type": "code",
   "execution_count": 88,
   "metadata": {},
   "outputs": [],
   "source": [
    "import numpy as np\n",
    "from copy import copy"
   ]
  },
  {
   "cell_type": "code",
   "execution_count": 70,
   "metadata": {},
   "outputs": [],
   "source": [
    "N = 3"
   ]
  },
  {
   "cell_type": "code",
   "execution_count": 77,
   "metadata": {},
   "outputs": [
    {
     "name": "stdout",
     "output_type": "stream",
     "text": [
      "[[0 0 0 0 0]\n",
      " [0 1 1 1 0]\n",
      " [0 1 1 1 0]\n",
      " [0 1 1 1 0]\n",
      " [0 0 0 0 0]]\n"
     ]
    }
   ],
   "source": [
    "clip = np.zeros((N+2,N+2), 'int')\n",
    "clip[1:(N+1),1:(N+1)] = np.ones((N,N))\n",
    "print(clip)"
   ]
  },
  {
   "cell_type": "code",
   "execution_count": 78,
   "metadata": {},
   "outputs": [],
   "source": [
    "def neighbors(k,l):\n",
    "    res = []\n",
    "    k_clip = k+1\n",
    "    l_clip = l+1\n",
    "    if clip[k_clip-1,l_clip]:\n",
    "        res.append((k-1,l))\n",
    "    if clip[k_clip,l_clip-1]:\n",
    "        res.append((k,l-1))\n",
    "    if clip[k_clip+1,l_clip]:\n",
    "        res.append((k+1,l))\n",
    "    if clip[k_clip,l_clip+1]:\n",
    "        res.append((k,l+1))\n",
    "    return res"
   ]
  },
  {
   "cell_type": "code",
   "execution_count": 79,
   "metadata": {},
   "outputs": [],
   "source": [
    "A = np.zeros((N*N, N*N), 'int')\n",
    "\n",
    "for i in range(N):\n",
    "    for j in range(N):\n",
    "        A[i*N+j,i*N+j] = 4\n",
    "        for (k,l) in neighbors(i,j):\n",
    "            A[i*N+j,k*N+l] = -1"
   ]
  },
  {
   "cell_type": "code",
   "execution_count": 80,
   "metadata": {},
   "outputs": [],
   "source": [
    "b = np.zeros((N*N,1), 'int')"
   ]
  },
  {
   "cell_type": "code",
   "execution_count": 81,
   "metadata": {},
   "outputs": [
    {
     "name": "stdout",
     "output_type": "stream",
     "text": [
      "9\n"
     ]
    }
   ],
   "source": [
    "print(np.linalg.matrix_rank(A))"
   ]
  },
  {
   "cell_type": "code",
   "execution_count": 82,
   "metadata": {},
   "outputs": [
    {
     "name": "stdout",
     "output_type": "stream",
     "text": [
      "[[ 4 -1  0 -1  0  0  0  0  0]\n",
      " [-1  4 -1  0 -1  0  0  0  0]\n",
      " [ 0 -1  4  0  0 -1  0  0  0]\n",
      " [-1  0  0  4 -1  0 -1  0  0]\n",
      " [ 0 -1  0 -1  4 -1  0 -1  0]\n",
      " [ 0  0 -1  0 -1  4  0  0 -1]\n",
      " [ 0  0  0 -1  0  0  4 -1  0]\n",
      " [ 0  0  0  0 -1  0 -1  4 -1]\n",
      " [ 0  0  0  0  0 -1  0 -1  4]]\n"
     ]
    }
   ],
   "source": [
    "print(A)"
   ]
  },
  {
   "cell_type": "code",
   "execution_count": 83,
   "metadata": {},
   "outputs": [
    {
     "name": "stdout",
     "output_type": "stream",
     "text": [
      "[[0.]\n",
      " [0.]\n",
      " [0.]\n",
      " [0.]\n",
      " [0.]\n",
      " [0.]\n",
      " [0.]\n",
      " [0.]\n",
      " [0.]]\n"
     ]
    }
   ],
   "source": [
    "x = np.linalg.solve(A,b)\n",
    "print(x)"
   ]
  },
  {
   "cell_type": "code",
   "execution_count": 90,
   "metadata": {},
   "outputs": [],
   "source": [
    "b2 = np.zeros((N*N+1,1), 'int')\n",
    "b2[N*N] = 1\n",
    "A2 = np.zeros((N*N+1, N*N), 'int')\n",
    "A2[0:N*N,:] = copy(A)\n",
    "A2[N*N,:] = np.zeros((1,N*N), 'int')\n",
    "A2[N*N,0] = 1"
   ]
  },
  {
   "cell_type": "code",
   "execution_count": 91,
   "metadata": {},
   "outputs": [
    {
     "name": "stdout",
     "output_type": "stream",
     "text": [
      "[[ 4 -1  0 -1  0  0  0  0  0]\n",
      " [-1  4 -1  0 -1  0  0  0  0]\n",
      " [ 0 -1  4  0  0 -1  0  0  0]\n",
      " [-1  0  0  4 -1  0 -1  0  0]\n",
      " [ 0 -1  0 -1  4 -1  0 -1  0]\n",
      " [ 0  0 -1  0 -1  4  0  0 -1]\n",
      " [ 0  0  0 -1  0  0  4 -1  0]\n",
      " [ 0  0  0  0 -1  0 -1  4 -1]\n",
      " [ 0  0  0  0  0 -1  0 -1  4]\n",
      " [ 1  0  0  0  0  0  0  0  0]]\n"
     ]
    }
   ],
   "source": [
    "print(A2)"
   ]
  },
  {
   "cell_type": "code",
   "execution_count": 92,
   "metadata": {},
   "outputs": [
    {
     "name": "stdout",
     "output_type": "stream",
     "text": [
      "[[0]\n",
      " [0]\n",
      " [0]\n",
      " [0]\n",
      " [0]\n",
      " [0]\n",
      " [0]\n",
      " [0]\n",
      " [0]\n",
      " [1]]\n"
     ]
    }
   ],
   "source": [
    "print(b2)"
   ]
  },
  {
   "cell_type": "code",
   "execution_count": 100,
   "metadata": {},
   "outputs": [
    {
     "name": "stdout",
     "output_type": "stream",
     "text": [
      "[[0.10412798]\n",
      " [0.0742751 ]\n",
      " [0.034995  ]\n",
      " [0.0742751 ]\n",
      " [0.06999   ]\n",
      " [0.0377089 ]\n",
      " [0.034995  ]\n",
      " [0.0377089 ]\n",
      " [0.02185402]]\n",
      "[0.89587202]\n",
      "9\n"
     ]
    },
    {
     "name": "stderr",
     "output_type": "stream",
     "text": [
      "c:\\users\\dantc\\anaconda3\\envs\\cv_env\\lib\\site-packages\\ipykernel_launcher.py:1: FutureWarning: `rcond` parameter will change to the default of machine precision times ``max(M, N)`` where M and N are the input matrix dimensions.\n",
      "To use the future default and silence this warning we advise to pass `rcond=None`, to keep using the old, explicitly pass `rcond=-1`.\n",
      "  \"\"\"Entry point for launching an IPython kernel.\n"
     ]
    }
   ],
   "source": [
    "x2 = np.linalg.lstsq(A2,b2)\n",
    "print(x2[0])\n",
    "print(x2[1])\n",
    "print(x2[2])"
   ]
  },
  {
   "cell_type": "code",
   "execution_count": 84,
   "metadata": {},
   "outputs": [],
   "source": [
    "lambdas, v_s = np.linalg.eig(A)"
   ]
  },
  {
   "cell_type": "code",
   "execution_count": 85,
   "metadata": {},
   "outputs": [
    {
     "name": "stdout",
     "output_type": "stream",
     "text": [
      "1.17\n",
      "6.83\n",
      "5.41\n",
      "4.0\n",
      "2.59\n",
      "5.41\n",
      "2.59\n",
      "4.0\n",
      "4.0\n"
     ]
    }
   ],
   "source": [
    "# print(len(lambdas))\n",
    "# print(len(v_s[v_s.real==v_s]))\n",
    "# for v in v_s[v_s.real==v_s]:\n",
    "#     print(v)\n",
    "# real_lambdas = lambdas[lambdas.real==lambdas]\n",
    "# print(len(real_lambdas.real))\n",
    "\n",
    "for i in range(len(lambdas)):\n",
    "    if lambdas[i].real == lambdas[i]:\n",
    "        a = round(lambdas[i].real,2)\n",
    "        print(a)"
   ]
  }
 ],
 "metadata": {
  "kernelspec": {
   "display_name": "Python 3",
   "language": "python",
   "name": "python3"
  },
  "language_info": {
   "codemirror_mode": {
    "name": "ipython",
    "version": 3
   },
   "file_extension": ".py",
   "mimetype": "text/x-python",
   "name": "python",
   "nbconvert_exporter": "python",
   "pygments_lexer": "ipython3",
   "version": "3.7.7"
  }
 },
 "nbformat": 4,
 "nbformat_minor": 4
}
